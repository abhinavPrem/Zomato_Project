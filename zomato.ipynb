{
 "cells": [
  {
   "cell_type": "markdown",
   "id": "e4e16658-7f2e-4ce1-a07e-305b111d88c8",
   "metadata": {},
   "source": [
    "Zomato data analysis project"
   ]
  },
  {
   "cell_type": "markdown",
   "id": "e2a4cc3d-af4c-46a7-a35f-fa90e3be1c81",
   "metadata": {},
   "source": [
    "STEP 1 - Importing libraries"
   ]
  },
  {
   "cell_type": "code",
   "execution_count": 23,
   "id": "49c356e6-e625-45c8-8b79-10f6322e4009",
   "metadata": {},
   "outputs": [
    {
     "name": "stdout",
     "output_type": "stream",
     "text": [
      "library successfully imported\n"
     ]
    }
   ],
   "source": [
    "import pandas as pd\n",
    "import numpy as np\n",
    "import matplotlib.pyplot as mpl\n",
    "import seaborn as sns\n",
    "print(\"library successfully imported\")"
   ]
  },
  {
   "cell_type": "markdown",
   "id": "580ee14e-ddb4-4e36-8fb5-ab63bf30a500",
   "metadata": {},
   "source": [
    "STEP 2 - Importing zomato data"
   ]
  },
  {
   "cell_type": "code",
   "execution_count": 24,
   "id": "7c201ef1-c3ab-45ab-a006-d18495a734ed",
   "metadata": {},
   "outputs": [],
   "source": [
    "data=pd.read_csv('C:\\\\Users\\\\Lappy House\\\\OneDrive\\\\Desktop\\\\Abhi\\\\DA_PROJECT\\\\Zomato_project\\\\Zomato_data.csv')"
   ]
  },
  {
   "cell_type": "markdown",
   "id": "e527e5a6-62da-4474-9af3-ec852662b90a",
   "metadata": {},
   "source": [
    "STEP 3 - DATA CLEANING"
   ]
  },
  {
   "cell_type": "code",
   "execution_count": 25,
   "id": "a805492e-ac1c-4941-bbdc-3bf7db7b3f9b",
   "metadata": {},
   "outputs": [
    {
     "data": {
      "text/html": [
       "<div>\n",
       "<style scoped>\n",
       "    .dataframe tbody tr th:only-of-type {\n",
       "        vertical-align: middle;\n",
       "    }\n",
       "\n",
       "    .dataframe tbody tr th {\n",
       "        vertical-align: top;\n",
       "    }\n",
       "\n",
       "    .dataframe thead th {\n",
       "        text-align: right;\n",
       "    }\n",
       "</style>\n",
       "<table border=\"1\" class=\"dataframe\">\n",
       "  <thead>\n",
       "    <tr style=\"text-align: right;\">\n",
       "      <th></th>\n",
       "      <th>name</th>\n",
       "      <th>online_order</th>\n",
       "      <th>book_table</th>\n",
       "      <th>rate</th>\n",
       "      <th>votes</th>\n",
       "      <th>approx_cost(for two people)</th>\n",
       "      <th>listed_in(type)</th>\n",
       "    </tr>\n",
       "  </thead>\n",
       "  <tbody>\n",
       "    <tr>\n",
       "      <th>0</th>\n",
       "      <td>Jalsa</td>\n",
       "      <td>Yes</td>\n",
       "      <td>Yes</td>\n",
       "      <td>4.1/5</td>\n",
       "      <td>775</td>\n",
       "      <td>800</td>\n",
       "      <td>Buffet</td>\n",
       "    </tr>\n",
       "    <tr>\n",
       "      <th>1</th>\n",
       "      <td>Spice Elephant</td>\n",
       "      <td>Yes</td>\n",
       "      <td>No</td>\n",
       "      <td>4.1/5</td>\n",
       "      <td>787</td>\n",
       "      <td>800</td>\n",
       "      <td>Buffet</td>\n",
       "    </tr>\n",
       "    <tr>\n",
       "      <th>2</th>\n",
       "      <td>San Churro Cafe</td>\n",
       "      <td>Yes</td>\n",
       "      <td>No</td>\n",
       "      <td>3.8/5</td>\n",
       "      <td>918</td>\n",
       "      <td>800</td>\n",
       "      <td>Buffet</td>\n",
       "    </tr>\n",
       "    <tr>\n",
       "      <th>3</th>\n",
       "      <td>Addhuri Udupi Bhojana</td>\n",
       "      <td>No</td>\n",
       "      <td>No</td>\n",
       "      <td>3.7/5</td>\n",
       "      <td>88</td>\n",
       "      <td>300</td>\n",
       "      <td>Buffet</td>\n",
       "    </tr>\n",
       "    <tr>\n",
       "      <th>4</th>\n",
       "      <td>Grand Village</td>\n",
       "      <td>No</td>\n",
       "      <td>No</td>\n",
       "      <td>3.8/5</td>\n",
       "      <td>166</td>\n",
       "      <td>600</td>\n",
       "      <td>Buffet</td>\n",
       "    </tr>\n",
       "  </tbody>\n",
       "</table>\n",
       "</div>"
      ],
      "text/plain": [
       "                    name online_order book_table   rate  votes  \\\n",
       "0                  Jalsa          Yes        Yes  4.1/5    775   \n",
       "1         Spice Elephant          Yes         No  4.1/5    787   \n",
       "2        San Churro Cafe          Yes         No  3.8/5    918   \n",
       "3  Addhuri Udupi Bhojana           No         No  3.7/5     88   \n",
       "4          Grand Village           No         No  3.8/5    166   \n",
       "\n",
       "   approx_cost(for two people) listed_in(type)  \n",
       "0                          800          Buffet  \n",
       "1                          800          Buffet  \n",
       "2                          800          Buffet  \n",
       "3                          300          Buffet  \n",
       "4                          600          Buffet  "
      ]
     },
     "execution_count": 25,
     "metadata": {},
     "output_type": "execute_result"
    }
   ],
   "source": [
    "data.head()"
   ]
  },
  {
   "cell_type": "code",
   "execution_count": 26,
   "id": "875d0763-45a3-4536-ab27-9a7269dabd86",
   "metadata": {},
   "outputs": [
    {
     "name": "stdout",
     "output_type": "stream",
     "text": [
      "<class 'pandas.core.frame.DataFrame'>\n",
      "RangeIndex: 148 entries, 0 to 147\n",
      "Data columns (total 7 columns):\n",
      " #   Column                       Non-Null Count  Dtype \n",
      "---  ------                       --------------  ----- \n",
      " 0   name                         148 non-null    object\n",
      " 1   online_order                 148 non-null    object\n",
      " 2   book_table                   148 non-null    object\n",
      " 3   rate                         148 non-null    object\n",
      " 4   votes                        148 non-null    int64 \n",
      " 5   approx_cost(for two people)  148 non-null    int64 \n",
      " 6   listed_in(type)              148 non-null    object\n",
      "dtypes: int64(2), object(5)\n",
      "memory usage: 8.2+ KB\n"
     ]
    }
   ],
   "source": [
    "data.info()"
   ]
  },
  {
   "cell_type": "code",
   "execution_count": 27,
   "id": "d3b88ef9-2c9f-4d2f-83da-4f135213d995",
   "metadata": {},
   "outputs": [
    {
     "data": {
      "text/html": [
       "<div>\n",
       "<style scoped>\n",
       "    .dataframe tbody tr th:only-of-type {\n",
       "        vertical-align: middle;\n",
       "    }\n",
       "\n",
       "    .dataframe tbody tr th {\n",
       "        vertical-align: top;\n",
       "    }\n",
       "\n",
       "    .dataframe thead th {\n",
       "        text-align: right;\n",
       "    }\n",
       "</style>\n",
       "<table border=\"1\" class=\"dataframe\">\n",
       "  <thead>\n",
       "    <tr style=\"text-align: right;\">\n",
       "      <th></th>\n",
       "      <th>votes</th>\n",
       "      <th>approx_cost(for two people)</th>\n",
       "    </tr>\n",
       "  </thead>\n",
       "  <tbody>\n",
       "    <tr>\n",
       "      <th>count</th>\n",
       "      <td>148.000000</td>\n",
       "      <td>148.000000</td>\n",
       "    </tr>\n",
       "    <tr>\n",
       "      <th>mean</th>\n",
       "      <td>264.810811</td>\n",
       "      <td>418.243243</td>\n",
       "    </tr>\n",
       "    <tr>\n",
       "      <th>std</th>\n",
       "      <td>653.676951</td>\n",
       "      <td>223.085098</td>\n",
       "    </tr>\n",
       "    <tr>\n",
       "      <th>min</th>\n",
       "      <td>0.000000</td>\n",
       "      <td>100.000000</td>\n",
       "    </tr>\n",
       "    <tr>\n",
       "      <th>25%</th>\n",
       "      <td>6.750000</td>\n",
       "      <td>200.000000</td>\n",
       "    </tr>\n",
       "    <tr>\n",
       "      <th>50%</th>\n",
       "      <td>43.500000</td>\n",
       "      <td>400.000000</td>\n",
       "    </tr>\n",
       "    <tr>\n",
       "      <th>75%</th>\n",
       "      <td>221.750000</td>\n",
       "      <td>600.000000</td>\n",
       "    </tr>\n",
       "    <tr>\n",
       "      <th>max</th>\n",
       "      <td>4884.000000</td>\n",
       "      <td>950.000000</td>\n",
       "    </tr>\n",
       "  </tbody>\n",
       "</table>\n",
       "</div>"
      ],
      "text/plain": [
       "             votes  approx_cost(for two people)\n",
       "count   148.000000                   148.000000\n",
       "mean    264.810811                   418.243243\n",
       "std     653.676951                   223.085098\n",
       "min       0.000000                   100.000000\n",
       "25%       6.750000                   200.000000\n",
       "50%      43.500000                   400.000000\n",
       "75%     221.750000                   600.000000\n",
       "max    4884.000000                   950.000000"
      ]
     },
     "execution_count": 27,
     "metadata": {},
     "output_type": "execute_result"
    }
   ],
   "source": [
    "data.describe()"
   ]
  },
  {
   "cell_type": "code",
   "execution_count": 28,
   "id": "e7799d01-f774-481b-b2dc-81aacb50b157",
   "metadata": {},
   "outputs": [
    {
     "data": {
      "text/html": [
       "<div>\n",
       "<style scoped>\n",
       "    .dataframe tbody tr th:only-of-type {\n",
       "        vertical-align: middle;\n",
       "    }\n",
       "\n",
       "    .dataframe tbody tr th {\n",
       "        vertical-align: top;\n",
       "    }\n",
       "\n",
       "    .dataframe thead th {\n",
       "        text-align: right;\n",
       "    }\n",
       "</style>\n",
       "<table border=\"1\" class=\"dataframe\">\n",
       "  <thead>\n",
       "    <tr style=\"text-align: right;\">\n",
       "      <th></th>\n",
       "      <th>name</th>\n",
       "      <th>online_order</th>\n",
       "      <th>book_table</th>\n",
       "      <th>rate</th>\n",
       "      <th>votes</th>\n",
       "      <th>approx_cost(for two people)</th>\n",
       "      <th>listed_in(type)</th>\n",
       "    </tr>\n",
       "  </thead>\n",
       "  <tbody>\n",
       "    <tr>\n",
       "      <th>0</th>\n",
       "      <td>False</td>\n",
       "      <td>False</td>\n",
       "      <td>False</td>\n",
       "      <td>False</td>\n",
       "      <td>False</td>\n",
       "      <td>False</td>\n",
       "      <td>False</td>\n",
       "    </tr>\n",
       "    <tr>\n",
       "      <th>1</th>\n",
       "      <td>False</td>\n",
       "      <td>False</td>\n",
       "      <td>False</td>\n",
       "      <td>False</td>\n",
       "      <td>False</td>\n",
       "      <td>False</td>\n",
       "      <td>False</td>\n",
       "    </tr>\n",
       "    <tr>\n",
       "      <th>2</th>\n",
       "      <td>False</td>\n",
       "      <td>False</td>\n",
       "      <td>False</td>\n",
       "      <td>False</td>\n",
       "      <td>False</td>\n",
       "      <td>False</td>\n",
       "      <td>False</td>\n",
       "    </tr>\n",
       "    <tr>\n",
       "      <th>3</th>\n",
       "      <td>False</td>\n",
       "      <td>False</td>\n",
       "      <td>False</td>\n",
       "      <td>False</td>\n",
       "      <td>False</td>\n",
       "      <td>False</td>\n",
       "      <td>False</td>\n",
       "    </tr>\n",
       "    <tr>\n",
       "      <th>4</th>\n",
       "      <td>False</td>\n",
       "      <td>False</td>\n",
       "      <td>False</td>\n",
       "      <td>False</td>\n",
       "      <td>False</td>\n",
       "      <td>False</td>\n",
       "      <td>False</td>\n",
       "    </tr>\n",
       "    <tr>\n",
       "      <th>...</th>\n",
       "      <td>...</td>\n",
       "      <td>...</td>\n",
       "      <td>...</td>\n",
       "      <td>...</td>\n",
       "      <td>...</td>\n",
       "      <td>...</td>\n",
       "      <td>...</td>\n",
       "    </tr>\n",
       "    <tr>\n",
       "      <th>143</th>\n",
       "      <td>False</td>\n",
       "      <td>False</td>\n",
       "      <td>False</td>\n",
       "      <td>False</td>\n",
       "      <td>False</td>\n",
       "      <td>False</td>\n",
       "      <td>False</td>\n",
       "    </tr>\n",
       "    <tr>\n",
       "      <th>144</th>\n",
       "      <td>False</td>\n",
       "      <td>False</td>\n",
       "      <td>False</td>\n",
       "      <td>False</td>\n",
       "      <td>False</td>\n",
       "      <td>False</td>\n",
       "      <td>False</td>\n",
       "    </tr>\n",
       "    <tr>\n",
       "      <th>145</th>\n",
       "      <td>False</td>\n",
       "      <td>False</td>\n",
       "      <td>False</td>\n",
       "      <td>False</td>\n",
       "      <td>False</td>\n",
       "      <td>False</td>\n",
       "      <td>False</td>\n",
       "    </tr>\n",
       "    <tr>\n",
       "      <th>146</th>\n",
       "      <td>False</td>\n",
       "      <td>False</td>\n",
       "      <td>False</td>\n",
       "      <td>False</td>\n",
       "      <td>False</td>\n",
       "      <td>False</td>\n",
       "      <td>False</td>\n",
       "    </tr>\n",
       "    <tr>\n",
       "      <th>147</th>\n",
       "      <td>False</td>\n",
       "      <td>False</td>\n",
       "      <td>False</td>\n",
       "      <td>False</td>\n",
       "      <td>False</td>\n",
       "      <td>False</td>\n",
       "      <td>False</td>\n",
       "    </tr>\n",
       "  </tbody>\n",
       "</table>\n",
       "<p>148 rows × 7 columns</p>\n",
       "</div>"
      ],
      "text/plain": [
       "      name  online_order  book_table   rate  votes  \\\n",
       "0    False         False       False  False  False   \n",
       "1    False         False       False  False  False   \n",
       "2    False         False       False  False  False   \n",
       "3    False         False       False  False  False   \n",
       "4    False         False       False  False  False   \n",
       "..     ...           ...         ...    ...    ...   \n",
       "143  False         False       False  False  False   \n",
       "144  False         False       False  False  False   \n",
       "145  False         False       False  False  False   \n",
       "146  False         False       False  False  False   \n",
       "147  False         False       False  False  False   \n",
       "\n",
       "     approx_cost(for two people)  listed_in(type)  \n",
       "0                          False            False  \n",
       "1                          False            False  \n",
       "2                          False            False  \n",
       "3                          False            False  \n",
       "4                          False            False  \n",
       "..                           ...              ...  \n",
       "143                        False            False  \n",
       "144                        False            False  \n",
       "145                        False            False  \n",
       "146                        False            False  \n",
       "147                        False            False  \n",
       "\n",
       "[148 rows x 7 columns]"
      ]
     },
     "execution_count": 28,
     "metadata": {},
     "output_type": "execute_result"
    }
   ],
   "source": [
    "data.isnull()"
   ]
  },
  {
   "cell_type": "code",
   "execution_count": 29,
   "id": "a8e22542-cc75-43fa-9f5e-536a91edb709",
   "metadata": {},
   "outputs": [
    {
     "data": {
      "text/plain": [
       "name                           0\n",
       "online_order                   0\n",
       "book_table                     0\n",
       "rate                           0\n",
       "votes                          0\n",
       "approx_cost(for two people)    0\n",
       "listed_in(type)                0\n",
       "dtype: int64"
      ]
     },
     "execution_count": 29,
     "metadata": {},
     "output_type": "execute_result"
    }
   ],
   "source": [
    "data.isnull().sum()"
   ]
  },
  {
   "cell_type": "markdown",
   "id": "9baa9d7b-cf14-4b0d-8182-a80cdfcebb77",
   "metadata": {},
   "source": [
    "No null values "
   ]
  },
  {
   "cell_type": "code",
   "execution_count": 30,
   "id": "2b5f5da9-a22a-4642-89ef-60430959f297",
   "metadata": {},
   "outputs": [
    {
     "name": "stdout",
     "output_type": "stream",
     "text": [
      "                    name online_order book_table  rate  votes  \\\n",
      "0                  Jalsa          Yes        Yes   4.1    775   \n",
      "1         Spice Elephant          Yes         No   4.1    787   \n",
      "2        San Churro Cafe          Yes         No   3.8    918   \n",
      "3  Addhuri Udupi Bhojana           No         No   3.7     88   \n",
      "4          Grand Village           No         No   3.8    166   \n",
      "\n",
      "   approx_cost(for two people) listed_in(type)  \n",
      "0                          800          Buffet  \n",
      "1                          800          Buffet  \n",
      "2                          800          Buffet  \n",
      "3                          300          Buffet  \n",
      "4                          600          Buffet  \n"
     ]
    }
   ],
   "source": [
    "def rating(n):\n",
    "    n = str(n).split('/')\n",
    "    n = n[0]\n",
    "    return float(n)\n",
    "data['rate'] = data['rate'].apply(rating)\n",
    "print(data.head())"
   ]
  },
  {
   "cell_type": "markdown",
   "id": "e21cfc4b-0a45-47a8-ad92-068f148fced7",
   "metadata": {},
   "source": [
    "Convert data type of column - rate"
   ]
  },
  {
   "cell_type": "markdown",
   "id": "f1dc7925-dad8-463a-ae71-38b58e49de6f",
   "metadata": {},
   "source": [
    "STEP 4 - Data Analysis Question"
   ]
  },
  {
   "cell_type": "code",
   "execution_count": 31,
   "id": "1d8a5df7-6008-4800-b1f0-103b2e66117a",
   "metadata": {},
   "outputs": [
    {
     "data": {
      "text/plain": [
       "['1. What type of restaurant do the majority of customers order from?',\n",
       " '2. How many votes has each type of restaurant received from customers?',\n",
       " '3. What are the rating that the majority of restaurants have received?',\n",
       " '4. Zomato has observed that most couples order most of their food online. What is their average spending on each order?',\n",
       " '5. Which mode(online or offline) has received the maximum rating?',\n",
       " '6. Which type of restaurant recieved more offline orders, so that Zomato can customers with some good offers?']"
      ]
     },
     "execution_count": 31,
     "metadata": {},
     "output_type": "execute_result"
    }
   ],
   "source": [
    "Question = [\"1. What type of restaurant do the majority of customers order from?\",\n",
    "            \"2. How many votes has each type of restaurant received from customers?\",\n",
    "            \"3. What are the rating that the majority of restaurants have received?\",\n",
    "            \"4. Zomato has observed that most couples order most of their food online. What is their average spending on each order?\",\n",
    "            \"5. Which mode(online or offline) has received the maximum rating?\",\n",
    "            \"6. Which type of restaurant recieved more offline orders, so that Zomato can customers with some good offers?\"\n",
    "]\n",
    "Question"
   ]
  },
  {
   "cell_type": "markdown",
   "id": "b235e29b-bd5d-46e3-b602-b9babff5116d",
   "metadata": {},
   "source": [
    "Q1 - Types of restaurant"
   ]
  },
  {
   "cell_type": "code",
   "execution_count": 45,
   "id": "8cbae783-796f-4c6e-b90e-0b289a3afe7c",
   "metadata": {},
   "outputs": [
    {
     "data": {
      "text/plain": [
       "Text(0.5, 1.0, 'BAR GRAPH')"
      ]
     },
     "execution_count": 45,
     "metadata": {},
     "output_type": "execute_result"
    },
    {
     "data": {
      "image/png": "[encoded data removed]",
      "text/plain": [
       "<Figure size 640x480 with 1 Axes>"
      ]
     },
     "metadata": {},
     "output_type": "display_data"
    }
   ],
   "source": [
    "sns.countplot(x=data['listed_in(type)'])\n",
    "mpl.xlabel(\"Types of restaurant\")\n",
    "mpl.ylabel(\"Count\")\n",
    "mpl.title(\"BAR GRAPH\")"
   ]
  },
  {
   "cell_type": "markdown",
   "id": "926ebb60-997b-4ae9-9a75-b8c7969dc9cd",
   "metadata": {},
   "source": [
    "conclusion - majority of the restaurant falls in dining type"
   ]
  },
  {
   "cell_type": "markdown",
   "id": "47057db3-b8fb-4eee-99c0-d1eb13d5107e",
   "metadata": {},
   "source": [
    "Q2 - Votes by customers"
   ]
  },
  {
   "cell_type": "code",
   "execution_count": 49,
   "id": "a7fd7ee4-fe96-42fc-b26a-e0115b72d352",
   "metadata": {},
   "outputs": [
    {
     "data": {
      "text/plain": [
       "Text(0.5, 1.0, 'LINE GRAPH')"
      ]
     },
     "execution_count": 49,
     "metadata": {},
     "output_type": "execute_result"
    },
    {
     "data": {
      "image/png": "[encoded data removed]",
      "text/plain": [
       "<Figure size 640x480 with 1 Axes>"
      ]
     },
     "metadata": {},
     "output_type": "display_data"
    }
   ],
   "source": [
    "group = data.groupby('listed_in(type)')['votes'].sum()\n",
    "group.plot(kind='line',  c='green', marker = 'o')\n",
    "mpl.xlabel('Types of restaurant', c='red', size = 15)\n",
    "mpl.ylabel('Votes', c='red', size = 15)\n",
    "mpl.title('LINE GRAPH')\n",
    "\n"
   ]
  },
  {
   "cell_type": "markdown",
   "id": "ec90bd7e-ef4c-4c28-bbc7-2bc8133b0293",
   "metadata": {},
   "source": [
    "conclusion - dining restaurants has recieved maximum votes"
   ]
  },
  {
   "cell_type": "markdown",
   "id": "f35c0aae-5753-40df-a9eb-468a401d88f9",
   "metadata": {},
   "source": [
    "Q3 - Rating of majority restaurants"
   ]
  },
  {
   "cell_type": "code",
   "execution_count": 51,
   "id": "616bf20c-f2c7-4ff3-af5a-9300de82fb84",
   "metadata": {},
   "outputs": [
    {
     "data": {
      "text/plain": [
       "Text(0.5, 1.0, 'BAR GRAPH')"
      ]
     },
     "execution_count": 51,
     "metadata": {},
     "output_type": "execute_result"
    },
    {
     "data": {
      "image/png": "[encoded data removed]",
      "text/plain": [
       "<Figure size 640x480 with 1 Axes>"
      ]
     },
     "metadata": {},
     "output_type": "display_data"
    }
   ],
   "source": [
    "sns.countplot(x=data['rate'])\n",
    "mpl.xlabel('Ratings', c='skyblue', size = 15)\n",
    "mpl.ylabel('Count', c='skyblue', size = 15)\n",
    "mpl.title('BAR GRAPH')\n"
   ]
  },
  {
   "cell_type": "markdown",
   "id": "0977f1d1-378c-48d5-86e3-57a070bcab13",
   "metadata": {},
   "source": [
    "conclusion - The majority restaurant recieved ratings 3.8"
   ]
  },
  {
   "cell_type": "markdown",
   "id": "165bd3c0-856b-48a5-8b52-a8bb01a5a48e",
   "metadata": {},
   "source": [
    "Q4 - Average spending of couples"
   ]
  },
  {
   "cell_type": "code",
   "execution_count": 59,
   "id": "c5a33d11-5a51-431c-b8af-09ab3c885078",
   "metadata": {},
   "outputs": [
    {
     "data": {
      "text/plain": [
       "Text(0.5, 1.0, 'BAR GRAPH')"
      ]
     },
     "execution_count": 59,
     "metadata": {},
     "output_type": "execute_result"
    },
    {
     "data": {
      "image/png": "[encoded data removed]",
      "text/plain": [
       "<Figure size 640x480 with 1 Axes>"
      ]
     },
     "metadata": {},
     "output_type": "display_data"
    }
   ],
   "source": [
    "sns.countplot(x = data['approx_cost(for two people)'])\n",
    "mpl.xlabel('Amount', c='skyblue', size = 15)\n",
    "mpl.ylabel('Count', c='skyblue', size = 15)\n",
    "mpl.title('BAR GRAPH')"
   ]
  },
  {
   "cell_type": "markdown",
   "id": "c4f55348-aecc-4126-aaf2-e37dca5070c7",
   "metadata": {},
   "source": [
    "conclusion - The majority of couples prefer restaurants with an approx cost of 300 rupees"
   ]
  },
  {
   "cell_type": "markdown",
   "id": "8fe280b6-c380-4bcc-9875-4189755e38d6",
   "metadata": {},
   "source": [
    "Q5 - Max rating(online or offline)"
   ]
  },
  {
   "cell_type": "code",
   "execution_count": 73,
   "id": "ca78ca31-943f-47c3-85ac-987db98857b1",
   "metadata": {},
   "outputs": [
    {
     "data": {
      "text/plain": [
       "Text(0.5, 1.0, 'BOX PLOT')"
      ]
     },
     "execution_count": 73,
     "metadata": {},
     "output_type": "execute_result"
    },
    {
     "data": {
      "image/png": "[encoded data removed]",
      "text/plain": [
       "<Figure size 600x600 with 1 Axes>"
      ]
     },
     "metadata": {},
     "output_type": "display_data"
    }
   ],
   "source": [
    "mpl.figure(figsize=(6,6))\n",
    "sns.boxplot(x = 'online_order', y = 'rate' , data= data)\n",
    "mpl.xlabel('Online order', c='green', size = 15)\n",
    "mpl.ylabel('Rating', c='green', size = 15)\n",
    "mpl.title('BOX PLOT')"
   ]
  },
  {
   "cell_type": "markdown",
   "id": "de67c47b-6ae7-4909-a55a-2493035f458c",
   "metadata": {},
   "source": [
    "conclusion - offline order received lower rating in comparison to online order "
   ]
  },
  {
   "cell_type": "markdown",
   "id": "f3f35e97-95b5-4150-bfea-881eed939763",
   "metadata": {},
   "source": [
    "Q6 - Restaurant recieve order (online or offline)"
   ]
  },
  {
   "cell_type": "code",
   "execution_count": 85,
   "id": "7335228d-39ca-418d-b4cb-98dcde0f31c6",
   "metadata": {},
   "outputs": [
    {
     "data": {
      "image/png": "[encoded data removed]",
      "text/plain": [
       "<Figure size 640x480 with 2 Axes>"
      ]
     },
     "metadata": {},
     "output_type": "display_data"
    }
   ],
   "source": [
    "pivot_table = data.pivot_table(index = 'listed_in(type)', columns = 'online_order', aggfunc='size')\n",
    "sns.heatmap(pivot_table, annot = True, cmap = 'YlGnBu')\n",
    "mpl.title('HEATMAP')\n",
    "mpl.xlabel('Online order', c='green',size = 15)\n",
    "mpl.ylabel('Types of restaurant', c='green', size = 15)\n",
    "mpl.show()"
   ]
  },
  {
   "cell_type": "markdown",
   "id": "8aaa3948-627b-43b2-88c3-a005c1c53975",
   "metadata": {},
   "source": [
    "conclusion - dining restaurant primarily accept offline orders, whereas cafes primarily receive online orders. This suggests that clients prefers to place orders in person at restaurants, but prefer online ordering at cafes."
   ]
  },
  {
   "cell_type": "code",
   "execution_count": null,
   "id": "d92d76ec-595a-444c-bd0a-2129b6e7600f",
   "metadata": {},
   "outputs": [],
   "source": []
  },
  {
   "cell_type": "code",
   "execution_count": null,
   "id": "593ef1af-2eaa-4cf2-86ee-cc0361727545",
   "metadata": {},
   "outputs": [],
   "source": []
  },
  {
   "cell_type": "code",
   "execution_count": null,
   "id": "b95d1045-0893-426f-bc0c-224ebd3f7ceb",
   "metadata": {},
   "outputs": [],
   "source": []
  },
  {
   "cell_type": "code",
   "execution_count": null,
   "id": "5672ded9-6b2f-42d9-b74f-c20edcf97e00",
   "metadata": {},
   "outputs": [],
   "source": []
  },
  {
   "cell_type": "code",
   "execution_count": null,
   "id": "035655ec-e61a-4f69-bd5c-b073338e2d11",
   "metadata": {},
   "outputs": [],
   "source": []
  }
 ],
 "metadata": {
  "kernelspec": {
   "display_name": "Python 3 (ipykernel)",
   "language": "python",
   "name": "python3"
  },
  "language_info": {
   "codemirror_mode": {
    "name": "ipython",
    "version": 3
   },
   "file_extension": ".py",
   "mimetype": "text/x-python",
   "name": "python",
   "nbconvert_exporter": "python",
   "pygments_lexer": "ipython3",
   "version": "3.11.7"
  }
 },
 "nbformat": 4,
 "nbformat_minor": 5
}
